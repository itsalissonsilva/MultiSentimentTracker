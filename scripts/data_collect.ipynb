{
  "nbformat": 4,
  "nbformat_minor": 0,
  "metadata": {
    "colab": {
      "provenance": []
    },
    "kernelspec": {
      "name": "python3",
      "display_name": "Python 3"
    },
    "language_info": {
      "name": "python"
    },
    "widgets": {
      "application/vnd.jupyter.widget-state+json": {
        "3c0cdd6deb564578aa05eef11522f7ef": {
          "model_module": "@jupyter-widgets/controls",
          "model_name": "HBoxModel",
          "model_module_version": "1.5.0",
          "state": {
            "_dom_classes": [],
            "_model_module": "@jupyter-widgets/controls",
            "_model_module_version": "1.5.0",
            "_model_name": "HBoxModel",
            "_view_count": null,
            "_view_module": "@jupyter-widgets/controls",
            "_view_module_version": "1.5.0",
            "_view_name": "HBoxView",
            "box_style": "",
            "children": [
              "IPY_MODEL_bdae8dc8dfb546dfb4f90a2b257d055c",
              "IPY_MODEL_4f3177a81b894b82a759b9a6d4bd94bb",
              "IPY_MODEL_46aadae7df2d4db4887f63eef8353833"
            ],
            "layout": "IPY_MODEL_49958d7f355b4ed6ae82d598e33f39a1"
          }
        },
        "bdae8dc8dfb546dfb4f90a2b257d055c": {
          "model_module": "@jupyter-widgets/controls",
          "model_name": "HTMLModel",
          "model_module_version": "1.5.0",
          "state": {
            "_dom_classes": [],
            "_model_module": "@jupyter-widgets/controls",
            "_model_module_version": "1.5.0",
            "_model_name": "HTMLModel",
            "_view_count": null,
            "_view_module": "@jupyter-widgets/controls",
            "_view_module_version": "1.5.0",
            "_view_name": "HTMLView",
            "description": "",
            "description_tooltip": null,
            "layout": "IPY_MODEL_202c6d9a23a14635b16cde8299b38f00",
            "placeholder": "​",
            "style": "IPY_MODEL_5c8b964e44ee414e8707a7c6b627f88a",
            "value": "Scoring sentiment: 100%"
          }
        },
        "4f3177a81b894b82a759b9a6d4bd94bb": {
          "model_module": "@jupyter-widgets/controls",
          "model_name": "FloatProgressModel",
          "model_module_version": "1.5.0",
          "state": {
            "_dom_classes": [],
            "_model_module": "@jupyter-widgets/controls",
            "_model_module_version": "1.5.0",
            "_model_name": "FloatProgressModel",
            "_view_count": null,
            "_view_module": "@jupyter-widgets/controls",
            "_view_module_version": "1.5.0",
            "_view_name": "ProgressView",
            "bar_style": "success",
            "description": "",
            "description_tooltip": null,
            "layout": "IPY_MODEL_45481099b51041eabe0f9877deb1f7c9",
            "max": 491,
            "min": 0,
            "orientation": "horizontal",
            "style": "IPY_MODEL_e565e5bae6fd4bafa9d2040b08287fc5",
            "value": 491
          }
        },
        "46aadae7df2d4db4887f63eef8353833": {
          "model_module": "@jupyter-widgets/controls",
          "model_name": "HTMLModel",
          "model_module_version": "1.5.0",
          "state": {
            "_dom_classes": [],
            "_model_module": "@jupyter-widgets/controls",
            "_model_module_version": "1.5.0",
            "_model_name": "HTMLModel",
            "_view_count": null,
            "_view_module": "@jupyter-widgets/controls",
            "_view_module_version": "1.5.0",
            "_view_name": "HTMLView",
            "description": "",
            "description_tooltip": null,
            "layout": "IPY_MODEL_69998539fbdb4a1ebcc1ef40a071241e",
            "placeholder": "​",
            "style": "IPY_MODEL_870904e6f44241f4b86afa5965aef3ff",
            "value": " 491/491 [27:15&lt;00:00,  3.06s/it]"
          }
        },
        "49958d7f355b4ed6ae82d598e33f39a1": {
          "model_module": "@jupyter-widgets/base",
          "model_name": "LayoutModel",
          "model_module_version": "1.2.0",
          "state": {
            "_model_module": "@jupyter-widgets/base",
            "_model_module_version": "1.2.0",
            "_model_name": "LayoutModel",
            "_view_count": null,
            "_view_module": "@jupyter-widgets/base",
            "_view_module_version": "1.2.0",
            "_view_name": "LayoutView",
            "align_content": null,
            "align_items": null,
            "align_self": null,
            "border": null,
            "bottom": null,
            "display": null,
            "flex": null,
            "flex_flow": null,
            "grid_area": null,
            "grid_auto_columns": null,
            "grid_auto_flow": null,
            "grid_auto_rows": null,
            "grid_column": null,
            "grid_gap": null,
            "grid_row": null,
            "grid_template_areas": null,
            "grid_template_columns": null,
            "grid_template_rows": null,
            "height": null,
            "justify_content": null,
            "justify_items": null,
            "left": null,
            "margin": null,
            "max_height": null,
            "max_width": null,
            "min_height": null,
            "min_width": null,
            "object_fit": null,
            "object_position": null,
            "order": null,
            "overflow": null,
            "overflow_x": null,
            "overflow_y": null,
            "padding": null,
            "right": null,
            "top": null,
            "visibility": null,
            "width": null
          }
        },
        "202c6d9a23a14635b16cde8299b38f00": {
          "model_module": "@jupyter-widgets/base",
          "model_name": "LayoutModel",
          "model_module_version": "1.2.0",
          "state": {
            "_model_module": "@jupyter-widgets/base",
            "_model_module_version": "1.2.0",
            "_model_name": "LayoutModel",
            "_view_count": null,
            "_view_module": "@jupyter-widgets/base",
            "_view_module_version": "1.2.0",
            "_view_name": "LayoutView",
            "align_content": null,
            "align_items": null,
            "align_self": null,
            "border": null,
            "bottom": null,
            "display": null,
            "flex": null,
            "flex_flow": null,
            "grid_area": null,
            "grid_auto_columns": null,
            "grid_auto_flow": null,
            "grid_auto_rows": null,
            "grid_column": null,
            "grid_gap": null,
            "grid_row": null,
            "grid_template_areas": null,
            "grid_template_columns": null,
            "grid_template_rows": null,
            "height": null,
            "justify_content": null,
            "justify_items": null,
            "left": null,
            "margin": null,
            "max_height": null,
            "max_width": null,
            "min_height": null,
            "min_width": null,
            "object_fit": null,
            "object_position": null,
            "order": null,
            "overflow": null,
            "overflow_x": null,
            "overflow_y": null,
            "padding": null,
            "right": null,
            "top": null,
            "visibility": null,
            "width": null
          }
        },
        "5c8b964e44ee414e8707a7c6b627f88a": {
          "model_module": "@jupyter-widgets/controls",
          "model_name": "DescriptionStyleModel",
          "model_module_version": "1.5.0",
          "state": {
            "_model_module": "@jupyter-widgets/controls",
            "_model_module_version": "1.5.0",
            "_model_name": "DescriptionStyleModel",
            "_view_count": null,
            "_view_module": "@jupyter-widgets/base",
            "_view_module_version": "1.2.0",
            "_view_name": "StyleView",
            "description_width": ""
          }
        },
        "45481099b51041eabe0f9877deb1f7c9": {
          "model_module": "@jupyter-widgets/base",
          "model_name": "LayoutModel",
          "model_module_version": "1.2.0",
          "state": {
            "_model_module": "@jupyter-widgets/base",
            "_model_module_version": "1.2.0",
            "_model_name": "LayoutModel",
            "_view_count": null,
            "_view_module": "@jupyter-widgets/base",
            "_view_module_version": "1.2.0",
            "_view_name": "LayoutView",
            "align_content": null,
            "align_items": null,
            "align_self": null,
            "border": null,
            "bottom": null,
            "display": null,
            "flex": null,
            "flex_flow": null,
            "grid_area": null,
            "grid_auto_columns": null,
            "grid_auto_flow": null,
            "grid_auto_rows": null,
            "grid_column": null,
            "grid_gap": null,
            "grid_row": null,
            "grid_template_areas": null,
            "grid_template_columns": null,
            "grid_template_rows": null,
            "height": null,
            "justify_content": null,
            "justify_items": null,
            "left": null,
            "margin": null,
            "max_height": null,
            "max_width": null,
            "min_height": null,
            "min_width": null,
            "object_fit": null,
            "object_position": null,
            "order": null,
            "overflow": null,
            "overflow_x": null,
            "overflow_y": null,
            "padding": null,
            "right": null,
            "top": null,
            "visibility": null,
            "width": null
          }
        },
        "e565e5bae6fd4bafa9d2040b08287fc5": {
          "model_module": "@jupyter-widgets/controls",
          "model_name": "ProgressStyleModel",
          "model_module_version": "1.5.0",
          "state": {
            "_model_module": "@jupyter-widgets/controls",
            "_model_module_version": "1.5.0",
            "_model_name": "ProgressStyleModel",
            "_view_count": null,
            "_view_module": "@jupyter-widgets/base",
            "_view_module_version": "1.2.0",
            "_view_name": "StyleView",
            "bar_color": null,
            "description_width": ""
          }
        },
        "69998539fbdb4a1ebcc1ef40a071241e": {
          "model_module": "@jupyter-widgets/base",
          "model_name": "LayoutModel",
          "model_module_version": "1.2.0",
          "state": {
            "_model_module": "@jupyter-widgets/base",
            "_model_module_version": "1.2.0",
            "_model_name": "LayoutModel",
            "_view_count": null,
            "_view_module": "@jupyter-widgets/base",
            "_view_module_version": "1.2.0",
            "_view_name": "LayoutView",
            "align_content": null,
            "align_items": null,
            "align_self": null,
            "border": null,
            "bottom": null,
            "display": null,
            "flex": null,
            "flex_flow": null,
            "grid_area": null,
            "grid_auto_columns": null,
            "grid_auto_flow": null,
            "grid_auto_rows": null,
            "grid_column": null,
            "grid_gap": null,
            "grid_row": null,
            "grid_template_areas": null,
            "grid_template_columns": null,
            "grid_template_rows": null,
            "height": null,
            "justify_content": null,
            "justify_items": null,
            "left": null,
            "margin": null,
            "max_height": null,
            "max_width": null,
            "min_height": null,
            "min_width": null,
            "object_fit": null,
            "object_position": null,
            "order": null,
            "overflow": null,
            "overflow_x": null,
            "overflow_y": null,
            "padding": null,
            "right": null,
            "top": null,
            "visibility": null,
            "width": null
          }
        },
        "870904e6f44241f4b86afa5965aef3ff": {
          "model_module": "@jupyter-widgets/controls",
          "model_name": "DescriptionStyleModel",
          "model_module_version": "1.5.0",
          "state": {
            "_model_module": "@jupyter-widgets/controls",
            "_model_module_version": "1.5.0",
            "_model_name": "DescriptionStyleModel",
            "_view_count": null,
            "_view_module": "@jupyter-widgets/base",
            "_view_module_version": "1.2.0",
            "_view_name": "StyleView",
            "description_width": ""
          }
        }
      }
    }
  },
  "cells": [
    {
      "cell_type": "code",
      "source": [
        "!pip install openai"
      ],
      "metadata": {
        "id": "JOxXgZCJH3hq",
        "colab": {
          "base_uri": "https://localhost:8080/"
        },
        "outputId": "cb7b04ae-8f22-4b00-a53a-3cf3018490c1"
      },
      "execution_count": null,
      "outputs": [
        {
          "output_type": "stream",
          "name": "stdout",
          "text": [
            "Requirement already satisfied: openai in /usr/local/lib/python3.11/dist-packages (1.99.1)\n",
            "Requirement already satisfied: anyio<5,>=3.5.0 in /usr/local/lib/python3.11/dist-packages (from openai) (4.10.0)\n",
            "Requirement already satisfied: distro<2,>=1.7.0 in /usr/local/lib/python3.11/dist-packages (from openai) (1.9.0)\n",
            "Requirement already satisfied: httpx<1,>=0.23.0 in /usr/local/lib/python3.11/dist-packages (from openai) (0.28.1)\n",
            "Requirement already satisfied: jiter<1,>=0.4.0 in /usr/local/lib/python3.11/dist-packages (from openai) (0.10.0)\n",
            "Requirement already satisfied: pydantic<3,>=1.9.0 in /usr/local/lib/python3.11/dist-packages (from openai) (2.11.7)\n",
            "Requirement already satisfied: sniffio in /usr/local/lib/python3.11/dist-packages (from openai) (1.3.1)\n",
            "Requirement already satisfied: tqdm>4 in /usr/local/lib/python3.11/dist-packages (from openai) (4.67.1)\n",
            "Requirement already satisfied: typing-extensions<5,>=4.11 in /usr/local/lib/python3.11/dist-packages (from openai) (4.14.1)\n",
            "Requirement already satisfied: idna>=2.8 in /usr/local/lib/python3.11/dist-packages (from anyio<5,>=3.5.0->openai) (3.10)\n",
            "Requirement already satisfied: certifi in /usr/local/lib/python3.11/dist-packages (from httpx<1,>=0.23.0->openai) (2025.8.3)\n",
            "Requirement already satisfied: httpcore==1.* in /usr/local/lib/python3.11/dist-packages (from httpx<1,>=0.23.0->openai) (1.0.9)\n",
            "Requirement already satisfied: h11>=0.16 in /usr/local/lib/python3.11/dist-packages (from httpcore==1.*->httpx<1,>=0.23.0->openai) (0.16.0)\n",
            "Requirement already satisfied: annotated-types>=0.6.0 in /usr/local/lib/python3.11/dist-packages (from pydantic<3,>=1.9.0->openai) (0.7.0)\n",
            "Requirement already satisfied: pydantic-core==2.33.2 in /usr/local/lib/python3.11/dist-packages (from pydantic<3,>=1.9.0->openai) (2.33.2)\n",
            "Requirement already satisfied: typing-inspection>=0.4.0 in /usr/local/lib/python3.11/dist-packages (from pydantic<3,>=1.9.0->openai) (0.4.1)\n"
          ]
        }
      ]
    },
    {
      "cell_type": "code",
      "source": [
        "import pandas as pd\n",
        "import yfinance as yf\n",
        "from datetime import date, timedelta\n",
        "import openai\n",
        "from openai import OpenAI\n",
        "import json\n",
        "import time\n",
        "from tqdm.notebook import tqdm"
      ],
      "metadata": {
        "id": "DLVsTmDVH5Pp"
      },
      "execution_count": null,
      "outputs": []
    },
    {
      "cell_type": "code",
      "execution_count": null,
      "metadata": {
        "id": "EAoEIRbYGup9"
      },
      "outputs": [],
      "source": [
        "# Load m7 financial news dataset from (https://huggingface.co/datasets/itsalissonsilva/mag7-news-dataset)\n",
        "df = pd.read_csv('df_m7.csv', quotechar='\"', engine='python', on_bad_lines='skip')"
      ]
    },
    {
      "cell_type": "code",
      "source": [
        "df['Date'] = pd.to_datetime(df['Date'])\n",
        "\n",
        "df_nvda = df[\n",
        "    (df['Stock_symbol'] == 'NVDA') &\n",
        "    (df['Date'].dt.year.isin([2022, 2023]))\n",
        "].copy()"
      ],
      "metadata": {
        "id": "6IYFo4HxG1yj"
      },
      "execution_count": null,
      "outputs": []
    },
    {
      "cell_type": "code",
      "source": [
        "df['Date'] = pd.to_datetime(df['Date'])\n",
        "\n",
        "df_nvda = df[\n",
        "    (df['Stock_symbol'] == 'NVDA') &\n",
        "    (df['Date'].dt.year.isin([2022, 2023]))\n",
        "].copy()\n",
        "\n",
        "df_nvda['Year'] = df_nvda['Date'].dt.year\n",
        "df_nvda['DateOnly'] = df_nvda['Date'].dt.date\n",
        "\n",
        "counts_per_year = (\n",
        "    df_nvda.groupby('Year')['DateOnly']\n",
        "           .nunique()\n",
        "           .reset_index(name='UniqueDays')\n",
        ")\n",
        "\n",
        "print(counts_per_year)\n"
      ],
      "metadata": {
        "colab": {
          "base_uri": "https://localhost:8080/"
        },
        "id": "tDvJuQfA5cfQ",
        "outputId": "948584a7-acd7-4b48-83bc-760e18936d1d"
      },
      "execution_count": null,
      "outputs": [
        {
          "output_type": "stream",
          "name": "stdout",
          "text": [
            "   Year  UniqueDays\n",
            "0  2022         344\n",
            "1  2023         343\n"
          ]
        }
      ]
    },
    {
      "cell_type": "code",
      "source": [
        "df_nvda['DateOnly'] = df_nvda['Date'].dt.date\n",
        "\n",
        "df_nvda_one_per_day = df_nvda.sort_values('Date').drop_duplicates(subset='DateOnly', keep='first')"
      ],
      "metadata": {
        "id": "z-UE9MING7jU"
      },
      "execution_count": null,
      "outputs": []
    },
    {
      "cell_type": "code",
      "source": [
        "all_2023_dates = set(date(2023, 1, 1) + timedelta(days=i) for i in range(365))\n",
        "\n",
        "nvda_dates = set(df_nvda_one_per_day['Date'].dt.date)\n",
        "\n",
        "missing_nvda = sorted(all_2023_dates - nvda_dates)\n",
        "\n",
        "print(f\"Missing NVDA days in 2023 ({len(missing_nvda)}):\")\n",
        "print(missing_nvda)"
      ],
      "metadata": {
        "id": "QdOQZ96SHH-f",
        "colab": {
          "base_uri": "https://localhost:8080/"
        },
        "outputId": "4d1ba6ec-3aca-4966-a117-aba11341c8a7"
      },
      "execution_count": null,
      "outputs": [
        {
          "output_type": "stream",
          "name": "stdout",
          "text": [
            "Missing NVDA days in 2023 (22):\n",
            "[datetime.date(2023, 1, 7), datetime.date(2023, 1, 21), datetime.date(2023, 1, 28), datetime.date(2023, 3, 11), datetime.date(2023, 3, 12), datetime.date(2023, 5, 6), datetime.date(2023, 5, 20), datetime.date(2023, 12, 17), datetime.date(2023, 12, 18), datetime.date(2023, 12, 19), datetime.date(2023, 12, 20), datetime.date(2023, 12, 21), datetime.date(2023, 12, 22), datetime.date(2023, 12, 23), datetime.date(2023, 12, 24), datetime.date(2023, 12, 25), datetime.date(2023, 12, 26), datetime.date(2023, 12, 27), datetime.date(2023, 12, 28), datetime.date(2023, 12, 29), datetime.date(2023, 12, 30), datetime.date(2023, 12, 31)]\n"
          ]
        }
      ]
    },
    {
      "cell_type": "code",
      "source": [
        "nvda_ticker = yf.Ticker(\"NVDA\")\n",
        "price_nvda = nvda_ticker.history(start=\"2022-01-01\", end=\"2024-01-01\")\n",
        "price_nvda = price_nvda[['Close']].reset_index()\n",
        "price_nvda['DateOnly'] = price_nvda['Date'].dt.date\n",
        "df_nvda_one_per_day['DateOnly'] = df_nvda_one_per_day['Date'].dt.date\n",
        "\n",
        "df_nvda_merged = pd.merge(df_nvda_one_per_day, price_nvda, on='DateOnly', how='left')"
      ],
      "metadata": {
        "id": "1GqhyDeqHOjC"
      },
      "execution_count": null,
      "outputs": []
    },
    {
      "cell_type": "code",
      "source": [],
      "metadata": {
        "id": "AUIG8m9L6azN"
      },
      "execution_count": null,
      "outputs": []
    },
    {
      "cell_type": "code",
      "source": [
        "counts_per_year_merged = (\n",
        "    df_nvda_merged.groupby('Year')['DateOnly']\n",
        "                  .nunique()\n",
        "                  .reset_index(name='UniqueDays')\n",
        ")\n",
        "\n",
        "print(counts_per_year_merged)\n",
        "\n",
        "date_ranges_merged = (\n",
        "    df_nvda_merged.groupby('Year')['DateOnly']\n",
        "                  .agg(['min', 'max'])\n",
        "                  .reset_index()\n",
        ")\n",
        "\n",
        "print(date_ranges_merged)"
      ],
      "metadata": {
        "colab": {
          "base_uri": "https://localhost:8080/"
        },
        "id": "FfmVH7Hb6TSn",
        "outputId": "ecfc3fa9-6a29-47da-a11e-596b2ac150eb"
      },
      "execution_count": null,
      "outputs": [
        {
          "output_type": "stream",
          "name": "stdout",
          "text": [
            "   Year  UniqueDays\n",
            "0  2022         250\n",
            "1  2023         241\n",
            "   Year         min         max\n",
            "0  2022  2022-01-03  2022-12-30\n",
            "1  2023  2023-01-03  2023-12-15\n"
          ]
        }
      ]
    },
    {
      "cell_type": "code",
      "source": [
        "valid_nvda_dates = set(price_nvda['DateOnly'])\n",
        "df_nvda_trading_days = df_nvda_one_per_day[df_nvda_one_per_day['DateOnly'].isin(valid_nvda_dates)].copy()\n",
        "\n",
        "df_nvda_merged = pd.merge(df_nvda_trading_days, price_nvda[['DateOnly', 'Close']], on='DateOnly', how='left')\n"
      ],
      "metadata": {
        "id": "C34pcrTqHVmx"
      },
      "execution_count": null,
      "outputs": []
    },
    {
      "cell_type": "code",
      "source": [
        "client = OpenAI(api_key='YOURAPIKEYHERE')"
      ],
      "metadata": {
        "id": "O91f63YrHgiv"
      },
      "execution_count": null,
      "outputs": []
    },
    {
      "cell_type": "code",
      "source": [
        "def analyze_sentiment(summary, model=\"gpt-4\"):\n",
        "    prompt = f\"\"\"\n",
        "You are a financial sentiment analyst.\n",
        "\n",
        "Given the following news summary about a stock, assign a score from 0 to 1 (rounded to 2 decimal places) for each of the following sentiment dimensions:\n",
        "\n",
        "- Optimism (positive forward-looking sentiment)\n",
        "- Uncertainty (vagueness, ambiguity, or risk)\n",
        "- Surprise (unexpected developments)\n",
        "- Immediacy (urgency or time sensitivity)\n",
        "- Relief (easing of prior concerns)\n",
        "\n",
        "Only respond in valid JSON format.\n",
        "\n",
        "Summary:\n",
        "\\\"\\\"\\\"{summary}\\\"\\\"\\\"\n",
        "\"\"\"\n",
        "    try:\n",
        "        response = client.chat.completions.create(\n",
        "            model=model,\n",
        "            messages=[{\"role\": \"user\", \"content\": prompt}],\n",
        "            temperature=0,\n",
        "        )\n",
        "        content = response.choices[0].message.content\n",
        "        return json.loads(content)\n",
        "    except Exception as e:\n",
        "        print(f\"Error: {e}\")\n",
        "        return {\n",
        "            \"Optimism\": None,\n",
        "            \"Uncertainty\": None,\n",
        "            \"Surprise\": None,\n",
        "            \"Immediacy\": None,\n",
        "            \"Relief\": None\n",
        "        }\n"
      ],
      "metadata": {
        "id": "iKqwEeCyHmH-"
      },
      "execution_count": null,
      "outputs": []
    },
    {
      "cell_type": "code",
      "source": [
        "summaries = df_nvda_merged['Lsa_summary'].fillna(\"\").tolist()\n",
        "scores = []\n",
        "\n",
        "for summary in tqdm(summaries, desc=\"Scoring sentiment\"):\n",
        "    if not summary.strip():\n",
        "        scores.append({\n",
        "            \"Optimism\": None,\n",
        "            \"Uncertainty\": None,\n",
        "            \"Surprise\": None,\n",
        "            \"Immediacy\": None,\n",
        "            \"Relief\": None\n",
        "        })\n",
        "        continue\n",
        "    try:\n",
        "        result = analyze_sentiment(summary)\n",
        "    except:\n",
        "        result = {\n",
        "            \"Optimism\": None,\n",
        "            \"Uncertainty\": None,\n",
        "            \"Surprise\": None,\n",
        "            \"Immediacy\": None,\n",
        "            \"Relief\": None\n",
        "        }\n",
        "    scores.append(result)\n",
        "    time.sleep(1)  # adjust if needed"
      ],
      "metadata": {
        "id": "t3bDPHfEHqya",
        "colab": {
          "base_uri": "https://localhost:8080/",
          "height": 49,
          "referenced_widgets": [
            "3c0cdd6deb564578aa05eef11522f7ef",
            "bdae8dc8dfb546dfb4f90a2b257d055c",
            "4f3177a81b894b82a759b9a6d4bd94bb",
            "46aadae7df2d4db4887f63eef8353833",
            "49958d7f355b4ed6ae82d598e33f39a1",
            "202c6d9a23a14635b16cde8299b38f00",
            "5c8b964e44ee414e8707a7c6b627f88a",
            "45481099b51041eabe0f9877deb1f7c9",
            "e565e5bae6fd4bafa9d2040b08287fc5",
            "69998539fbdb4a1ebcc1ef40a071241e",
            "870904e6f44241f4b86afa5965aef3ff"
          ]
        },
        "outputId": "c4747789-6850-4f2d-826d-e675b92ef801"
      },
      "execution_count": null,
      "outputs": [
        {
          "output_type": "display_data",
          "data": {
            "text/plain": [
              "Scoring sentiment:   0%|          | 0/491 [00:00<?, ?it/s]"
            ],
            "application/vnd.jupyter.widget-view+json": {
              "version_major": 2,
              "version_minor": 0,
              "model_id": "3c0cdd6deb564578aa05eef11522f7ef"
            }
          },
          "metadata": {}
        }
      ]
    },
    {
      "cell_type": "code",
      "source": [
        "scores.head()"
      ],
      "metadata": {
        "colab": {
          "base_uri": "https://localhost:8080/",
          "height": 141
        },
        "id": "2hkkvaOv1dzL",
        "outputId": "19299edf-48e0-4013-8943-f2e3a8759779"
      },
      "execution_count": null,
      "outputs": [
        {
          "output_type": "error",
          "ename": "AttributeError",
          "evalue": "'list' object has no attribute 'head'",
          "traceback": [
            "\u001b[0;31m---------------------------------------------------------------------------\u001b[0m",
            "\u001b[0;31mAttributeError\u001b[0m                            Traceback (most recent call last)",
            "\u001b[0;32m/tmp/ipython-input-828263652.py\u001b[0m in \u001b[0;36m<cell line: 0>\u001b[0;34m()\u001b[0m\n\u001b[0;32m----> 1\u001b[0;31m \u001b[0mscores\u001b[0m\u001b[0;34m.\u001b[0m\u001b[0mhead\u001b[0m\u001b[0;34m(\u001b[0m\u001b[0;34m)\u001b[0m\u001b[0;34m\u001b[0m\u001b[0;34m\u001b[0m\u001b[0m\n\u001b[0m",
            "\u001b[0;31mAttributeError\u001b[0m: 'list' object has no attribute 'head'"
          ]
        }
      ]
    },
    {
      "cell_type": "code",
      "source": [
        "df_nvda_merged.head()"
      ],
      "metadata": {
        "colab": {
          "base_uri": "https://localhost:8080/",
          "height": 591
        },
        "id": "4s9nxdcU1PqU",
        "outputId": "ed771d36-4c18-4b6e-cd2f-f0097a13cc05"
      },
      "execution_count": null,
      "outputs": [
        {
          "output_type": "execute_result",
          "data": {
            "text/plain": [
              "                       Date  \\\n",
              "0 2022-01-03 00:00:00+00:00   \n",
              "1 2022-01-04 00:00:00+00:00   \n",
              "2 2022-01-05 00:00:00+00:00   \n",
              "3 2022-01-06 00:00:00+00:00   \n",
              "4 2022-01-07 00:00:00+00:00   \n",
              "\n",
              "                                       Article_title Stock_symbol  \\\n",
              "0  3 Surefire Metaverse Stocks That Could Make Yo...         NVDA   \n",
              "1  Why This Semiconductor Stock's Price Jumped Mo...         NVDA   \n",
              "2  Why Intel Popped, but AMD and Nvidia Dropped T...         NVDA   \n",
              "3  Tesla Briefly Led the Nasdaq to New Heights. H...         NVDA   \n",
              "4  What Is the Metaverse (And How Can I Invest In...         NVDA   \n",
              "\n",
              "                                                 Url  \\\n",
              "0  https://www.nasdaq.com/articles/3-surefire-met...   \n",
              "1  https://www.nasdaq.com/articles/why-this-semic...   \n",
              "2  https://www.nasdaq.com/articles/why-intel-popp...   \n",
              "3  https://www.nasdaq.com/articles/tesla-briefly-...   \n",
              "4  https://www.nasdaq.com/articles/what-is-the-me...   \n",
              "\n",
              "                                             Article  \\\n",
              "0  The metaverse has created quite a buzz as comp...   \n",
              "1  Today's video focuses on Advanced Micro Device...   \n",
              "2  What happened\\nIt's Jan. 5 and at long last, t...   \n",
              "3  On Monday, a sea of green glossed over the U.S...   \n",
              "4  Just as we were getting accustomed to the idea...   \n",
              "\n",
              "                                         Lsa_summary  \\\n",
              "0  Nvidia: Powering the metaverse No discussion r...   \n",
              "1  The update informs investors that AMD now expe...   \n",
              "2  In contrast, Intel rivals Nvidia (NASDAQ: NVDA...   \n",
              "3  Wednesday brought a very different tune, as th...   \n",
              "4  For example, Nvidia (NVDA) created Omniverse, ...   \n",
              "\n",
              "                                        Luhn_summary  \\\n",
              "0  Nvidia: Powering the metaverse No discussion r...   \n",
              "1  Today's video focuses on Advanced Micro Device...   \n",
              "2  In contrast, Intel rivals Nvidia (NASDAQ: NVDA...   \n",
              "3  A heavyweight in the U.S. stock market Daniel ...   \n",
              "4  For example, Nvidia (NVDA) created Omniverse, ...   \n",
              "\n",
              "                                    Textrank_summary  \\\n",
              "0  Nvidia: Powering the metaverse No discussion r...   \n",
              "1  Today's video focuses on Advanced Micro Device...   \n",
              "2  In contrast, Intel rivals Nvidia (NASDAQ: NVDA...   \n",
              "3  A heavyweight in the U.S. stock market Daniel ...   \n",
              "4  For example, Nvidia (NVDA) created Omniverse, ...   \n",
              "\n",
              "                                     Lexrank_summary  Year    DateOnly  \\\n",
              "0  Nvidia: Powering the metaverse No discussion r...  2022  2022-01-03   \n",
              "1  AMD released an update on Dec. 30, 2021, about...  2022  2022-01-04   \n",
              "2  In contrast, Intel rivals Nvidia (NASDAQ: NVDA...  2022  2022-01-05   \n",
              "3  A heavyweight in the U.S. stock market Daniel ...  2022  2022-01-06   \n",
              "4  For example, Nvidia (NVDA) created Omniverse, ...  2022  2022-01-07   \n",
              "\n",
              "       Close  \n",
              "0  30.066137  \n",
              "1  29.236647  \n",
              "2  27.553715  \n",
              "3  28.126673  \n",
              "4  27.197369  "
            ],
            "text/html": [
              "\n",
              "  <div id=\"df-129cc1c1-cb40-457b-9587-fdee78985734\" class=\"colab-df-container\">\n",
              "    <div>\n",
              "<style scoped>\n",
              "    .dataframe tbody tr th:only-of-type {\n",
              "        vertical-align: middle;\n",
              "    }\n",
              "\n",
              "    .dataframe tbody tr th {\n",
              "        vertical-align: top;\n",
              "    }\n",
              "\n",
              "    .dataframe thead th {\n",
              "        text-align: right;\n",
              "    }\n",
              "</style>\n",
              "<table border=\"1\" class=\"dataframe\">\n",
              "  <thead>\n",
              "    <tr style=\"text-align: right;\">\n",
              "      <th></th>\n",
              "      <th>Date</th>\n",
              "      <th>Article_title</th>\n",
              "      <th>Stock_symbol</th>\n",
              "      <th>Url</th>\n",
              "      <th>Article</th>\n",
              "      <th>Lsa_summary</th>\n",
              "      <th>Luhn_summary</th>\n",
              "      <th>Textrank_summary</th>\n",
              "      <th>Lexrank_summary</th>\n",
              "      <th>Year</th>\n",
              "      <th>DateOnly</th>\n",
              "      <th>Close</th>\n",
              "    </tr>\n",
              "  </thead>\n",
              "  <tbody>\n",
              "    <tr>\n",
              "      <th>0</th>\n",
              "      <td>2022-01-03 00:00:00+00:00</td>\n",
              "      <td>3 Surefire Metaverse Stocks That Could Make Yo...</td>\n",
              "      <td>NVDA</td>\n",
              "      <td>https://www.nasdaq.com/articles/3-surefire-met...</td>\n",
              "      <td>The metaverse has created quite a buzz as comp...</td>\n",
              "      <td>Nvidia: Powering the metaverse No discussion r...</td>\n",
              "      <td>Nvidia: Powering the metaverse No discussion r...</td>\n",
              "      <td>Nvidia: Powering the metaverse No discussion r...</td>\n",
              "      <td>Nvidia: Powering the metaverse No discussion r...</td>\n",
              "      <td>2022</td>\n",
              "      <td>2022-01-03</td>\n",
              "      <td>30.066137</td>\n",
              "    </tr>\n",
              "    <tr>\n",
              "      <th>1</th>\n",
              "      <td>2022-01-04 00:00:00+00:00</td>\n",
              "      <td>Why This Semiconductor Stock's Price Jumped Mo...</td>\n",
              "      <td>NVDA</td>\n",
              "      <td>https://www.nasdaq.com/articles/why-this-semic...</td>\n",
              "      <td>Today's video focuses on Advanced Micro Device...</td>\n",
              "      <td>The update informs investors that AMD now expe...</td>\n",
              "      <td>Today's video focuses on Advanced Micro Device...</td>\n",
              "      <td>Today's video focuses on Advanced Micro Device...</td>\n",
              "      <td>AMD released an update on Dec. 30, 2021, about...</td>\n",
              "      <td>2022</td>\n",
              "      <td>2022-01-04</td>\n",
              "      <td>29.236647</td>\n",
              "    </tr>\n",
              "    <tr>\n",
              "      <th>2</th>\n",
              "      <td>2022-01-05 00:00:00+00:00</td>\n",
              "      <td>Why Intel Popped, but AMD and Nvidia Dropped T...</td>\n",
              "      <td>NVDA</td>\n",
              "      <td>https://www.nasdaq.com/articles/why-intel-popp...</td>\n",
              "      <td>What happened\\nIt's Jan. 5 and at long last, t...</td>\n",
              "      <td>In contrast, Intel rivals Nvidia (NASDAQ: NVDA...</td>\n",
              "      <td>In contrast, Intel rivals Nvidia (NASDAQ: NVDA...</td>\n",
              "      <td>In contrast, Intel rivals Nvidia (NASDAQ: NVDA...</td>\n",
              "      <td>In contrast, Intel rivals Nvidia (NASDAQ: NVDA...</td>\n",
              "      <td>2022</td>\n",
              "      <td>2022-01-05</td>\n",
              "      <td>27.553715</td>\n",
              "    </tr>\n",
              "    <tr>\n",
              "      <th>3</th>\n",
              "      <td>2022-01-06 00:00:00+00:00</td>\n",
              "      <td>Tesla Briefly Led the Nasdaq to New Heights. H...</td>\n",
              "      <td>NVDA</td>\n",
              "      <td>https://www.nasdaq.com/articles/tesla-briefly-...</td>\n",
              "      <td>On Monday, a sea of green glossed over the U.S...</td>\n",
              "      <td>Wednesday brought a very different tune, as th...</td>\n",
              "      <td>A heavyweight in the U.S. stock market Daniel ...</td>\n",
              "      <td>A heavyweight in the U.S. stock market Daniel ...</td>\n",
              "      <td>A heavyweight in the U.S. stock market Daniel ...</td>\n",
              "      <td>2022</td>\n",
              "      <td>2022-01-06</td>\n",
              "      <td>28.126673</td>\n",
              "    </tr>\n",
              "    <tr>\n",
              "      <th>4</th>\n",
              "      <td>2022-01-07 00:00:00+00:00</td>\n",
              "      <td>What Is the Metaverse (And How Can I Invest In...</td>\n",
              "      <td>NVDA</td>\n",
              "      <td>https://www.nasdaq.com/articles/what-is-the-me...</td>\n",
              "      <td>Just as we were getting accustomed to the idea...</td>\n",
              "      <td>For example, Nvidia (NVDA) created Omniverse, ...</td>\n",
              "      <td>For example, Nvidia (NVDA) created Omniverse, ...</td>\n",
              "      <td>For example, Nvidia (NVDA) created Omniverse, ...</td>\n",
              "      <td>For example, Nvidia (NVDA) created Omniverse, ...</td>\n",
              "      <td>2022</td>\n",
              "      <td>2022-01-07</td>\n",
              "      <td>27.197369</td>\n",
              "    </tr>\n",
              "  </tbody>\n",
              "</table>\n",
              "</div>\n",
              "    <div class=\"colab-df-buttons\">\n",
              "\n",
              "  <div class=\"colab-df-container\">\n",
              "    <button class=\"colab-df-convert\" onclick=\"convertToInteractive('df-129cc1c1-cb40-457b-9587-fdee78985734')\"\n",
              "            title=\"Convert this dataframe to an interactive table.\"\n",
              "            style=\"display:none;\">\n",
              "\n",
              "  <svg xmlns=\"http://www.w3.org/2000/svg\" height=\"24px\" viewBox=\"0 -960 960 960\">\n",
              "    <path d=\"M120-120v-720h720v720H120Zm60-500h600v-160H180v160Zm220 220h160v-160H400v160Zm0 220h160v-160H400v160ZM180-400h160v-160H180v160Zm440 0h160v-160H620v160ZM180-180h160v-160H180v160Zm440 0h160v-160H620v160Z\"/>\n",
              "  </svg>\n",
              "    </button>\n",
              "\n",
              "  <style>\n",
              "    .colab-df-container {\n",
              "      display:flex;\n",
              "      gap: 12px;\n",
              "    }\n",
              "\n",
              "    .colab-df-convert {\n",
              "      background-color: #E8F0FE;\n",
              "      border: none;\n",
              "      border-radius: 50%;\n",
              "      cursor: pointer;\n",
              "      display: none;\n",
              "      fill: #1967D2;\n",
              "      height: 32px;\n",
              "      padding: 0 0 0 0;\n",
              "      width: 32px;\n",
              "    }\n",
              "\n",
              "    .colab-df-convert:hover {\n",
              "      background-color: #E2EBFA;\n",
              "      box-shadow: 0px 1px 2px rgba(60, 64, 67, 0.3), 0px 1px 3px 1px rgba(60, 64, 67, 0.15);\n",
              "      fill: #174EA6;\n",
              "    }\n",
              "\n",
              "    .colab-df-buttons div {\n",
              "      margin-bottom: 4px;\n",
              "    }\n",
              "\n",
              "    [theme=dark] .colab-df-convert {\n",
              "      background-color: #3B4455;\n",
              "      fill: #D2E3FC;\n",
              "    }\n",
              "\n",
              "    [theme=dark] .colab-df-convert:hover {\n",
              "      background-color: #434B5C;\n",
              "      box-shadow: 0px 1px 3px 1px rgba(0, 0, 0, 0.15);\n",
              "      filter: drop-shadow(0px 1px 2px rgba(0, 0, 0, 0.3));\n",
              "      fill: #FFFFFF;\n",
              "    }\n",
              "  </style>\n",
              "\n",
              "    <script>\n",
              "      const buttonEl =\n",
              "        document.querySelector('#df-129cc1c1-cb40-457b-9587-fdee78985734 button.colab-df-convert');\n",
              "      buttonEl.style.display =\n",
              "        google.colab.kernel.accessAllowed ? 'block' : 'none';\n",
              "\n",
              "      async function convertToInteractive(key) {\n",
              "        const element = document.querySelector('#df-129cc1c1-cb40-457b-9587-fdee78985734');\n",
              "        const dataTable =\n",
              "          await google.colab.kernel.invokeFunction('convertToInteractive',\n",
              "                                                    [key], {});\n",
              "        if (!dataTable) return;\n",
              "\n",
              "        const docLinkHtml = 'Like what you see? Visit the ' +\n",
              "          '<a target=\"_blank\" href=https://colab.research.google.com/notebooks/data_table.ipynb>data table notebook</a>'\n",
              "          + ' to learn more about interactive tables.';\n",
              "        element.innerHTML = '';\n",
              "        dataTable['output_type'] = 'display_data';\n",
              "        await google.colab.output.renderOutput(dataTable, element);\n",
              "        const docLink = document.createElement('div');\n",
              "        docLink.innerHTML = docLinkHtml;\n",
              "        element.appendChild(docLink);\n",
              "      }\n",
              "    </script>\n",
              "  </div>\n",
              "\n",
              "\n",
              "    <div id=\"df-bdbf5231-3cc6-4a39-bc17-ca21172fbee5\">\n",
              "      <button class=\"colab-df-quickchart\" onclick=\"quickchart('df-bdbf5231-3cc6-4a39-bc17-ca21172fbee5')\"\n",
              "                title=\"Suggest charts\"\n",
              "                style=\"display:none;\">\n",
              "\n",
              "<svg xmlns=\"http://www.w3.org/2000/svg\" height=\"24px\"viewBox=\"0 0 24 24\"\n",
              "     width=\"24px\">\n",
              "    <g>\n",
              "        <path d=\"M19 3H5c-1.1 0-2 .9-2 2v14c0 1.1.9 2 2 2h14c1.1 0 2-.9 2-2V5c0-1.1-.9-2-2-2zM9 17H7v-7h2v7zm4 0h-2V7h2v10zm4 0h-2v-4h2v4z\"/>\n",
              "    </g>\n",
              "</svg>\n",
              "      </button>\n",
              "\n",
              "<style>\n",
              "  .colab-df-quickchart {\n",
              "      --bg-color: #E8F0FE;\n",
              "      --fill-color: #1967D2;\n",
              "      --hover-bg-color: #E2EBFA;\n",
              "      --hover-fill-color: #174EA6;\n",
              "      --disabled-fill-color: #AAA;\n",
              "      --disabled-bg-color: #DDD;\n",
              "  }\n",
              "\n",
              "  [theme=dark] .colab-df-quickchart {\n",
              "      --bg-color: #3B4455;\n",
              "      --fill-color: #D2E3FC;\n",
              "      --hover-bg-color: #434B5C;\n",
              "      --hover-fill-color: #FFFFFF;\n",
              "      --disabled-bg-color: #3B4455;\n",
              "      --disabled-fill-color: #666;\n",
              "  }\n",
              "\n",
              "  .colab-df-quickchart {\n",
              "    background-color: var(--bg-color);\n",
              "    border: none;\n",
              "    border-radius: 50%;\n",
              "    cursor: pointer;\n",
              "    display: none;\n",
              "    fill: var(--fill-color);\n",
              "    height: 32px;\n",
              "    padding: 0;\n",
              "    width: 32px;\n",
              "  }\n",
              "\n",
              "  .colab-df-quickchart:hover {\n",
              "    background-color: var(--hover-bg-color);\n",
              "    box-shadow: 0 1px 2px rgba(60, 64, 67, 0.3), 0 1px 3px 1px rgba(60, 64, 67, 0.15);\n",
              "    fill: var(--button-hover-fill-color);\n",
              "  }\n",
              "\n",
              "  .colab-df-quickchart-complete:disabled,\n",
              "  .colab-df-quickchart-complete:disabled:hover {\n",
              "    background-color: var(--disabled-bg-color);\n",
              "    fill: var(--disabled-fill-color);\n",
              "    box-shadow: none;\n",
              "  }\n",
              "\n",
              "  .colab-df-spinner {\n",
              "    border: 2px solid var(--fill-color);\n",
              "    border-color: transparent;\n",
              "    border-bottom-color: var(--fill-color);\n",
              "    animation:\n",
              "      spin 1s steps(1) infinite;\n",
              "  }\n",
              "\n",
              "  @keyframes spin {\n",
              "    0% {\n",
              "      border-color: transparent;\n",
              "      border-bottom-color: var(--fill-color);\n",
              "      border-left-color: var(--fill-color);\n",
              "    }\n",
              "    20% {\n",
              "      border-color: transparent;\n",
              "      border-left-color: var(--fill-color);\n",
              "      border-top-color: var(--fill-color);\n",
              "    }\n",
              "    30% {\n",
              "      border-color: transparent;\n",
              "      border-left-color: var(--fill-color);\n",
              "      border-top-color: var(--fill-color);\n",
              "      border-right-color: var(--fill-color);\n",
              "    }\n",
              "    40% {\n",
              "      border-color: transparent;\n",
              "      border-right-color: var(--fill-color);\n",
              "      border-top-color: var(--fill-color);\n",
              "    }\n",
              "    60% {\n",
              "      border-color: transparent;\n",
              "      border-right-color: var(--fill-color);\n",
              "    }\n",
              "    80% {\n",
              "      border-color: transparent;\n",
              "      border-right-color: var(--fill-color);\n",
              "      border-bottom-color: var(--fill-color);\n",
              "    }\n",
              "    90% {\n",
              "      border-color: transparent;\n",
              "      border-bottom-color: var(--fill-color);\n",
              "    }\n",
              "  }\n",
              "</style>\n",
              "\n",
              "      <script>\n",
              "        async function quickchart(key) {\n",
              "          const quickchartButtonEl =\n",
              "            document.querySelector('#' + key + ' button');\n",
              "          quickchartButtonEl.disabled = true;  // To prevent multiple clicks.\n",
              "          quickchartButtonEl.classList.add('colab-df-spinner');\n",
              "          try {\n",
              "            const charts = await google.colab.kernel.invokeFunction(\n",
              "                'suggestCharts', [key], {});\n",
              "          } catch (error) {\n",
              "            console.error('Error during call to suggestCharts:', error);\n",
              "          }\n",
              "          quickchartButtonEl.classList.remove('colab-df-spinner');\n",
              "          quickchartButtonEl.classList.add('colab-df-quickchart-complete');\n",
              "        }\n",
              "        (() => {\n",
              "          let quickchartButtonEl =\n",
              "            document.querySelector('#df-bdbf5231-3cc6-4a39-bc17-ca21172fbee5 button');\n",
              "          quickchartButtonEl.style.display =\n",
              "            google.colab.kernel.accessAllowed ? 'block' : 'none';\n",
              "        })();\n",
              "      </script>\n",
              "    </div>\n",
              "\n",
              "    </div>\n",
              "  </div>\n"
            ],
            "application/vnd.google.colaboratory.intrinsic+json": {
              "type": "dataframe",
              "variable_name": "df_nvda_merged",
              "summary": "{\n  \"name\": \"df_nvda_merged\",\n  \"rows\": 491,\n  \"fields\": [\n    {\n      \"column\": \"Date\",\n      \"properties\": {\n        \"dtype\": \"date\",\n        \"min\": \"2022-01-03 00:00:00+00:00\",\n        \"max\": \"2023-12-15 00:00:00+00:00\",\n        \"num_unique_values\": 491,\n        \"samples\": [\n          \"2023-10-23 00:00:00+00:00\",\n          \"2022-05-04 00:00:00+00:00\",\n          \"2023-09-27 00:00:00+00:00\"\n        ],\n        \"semantic_type\": \"\",\n        \"description\": \"\"\n      }\n    },\n    {\n      \"column\": \"Article_title\",\n      \"properties\": {\n        \"dtype\": \"string\",\n        \"num_unique_values\": 478,\n        \"samples\": [\n          \"US STOCKS-Wall Street ends down as megacaps give back gains\",\n          \"Intel's new chip plans could turn rival AMD's fortunes- analysts\",\n          \"Should You Buy GOOG on Monday After Its Big Split?\"\n        ],\n        \"semantic_type\": \"\",\n        \"description\": \"\"\n      }\n    },\n    {\n      \"column\": \"Stock_symbol\",\n      \"properties\": {\n        \"dtype\": \"category\",\n        \"num_unique_values\": 1,\n        \"samples\": [\n          \"NVDA\"\n        ],\n        \"semantic_type\": \"\",\n        \"description\": \"\"\n      }\n    },\n    {\n      \"column\": \"Url\",\n      \"properties\": {\n        \"dtype\": \"string\",\n        \"num_unique_values\": 491,\n        \"samples\": [\n          \"https://www.nasdaq.com/articles/big-q3-earnings-headed-our-way%3A-msft-googl-more\"\n        ],\n        \"semantic_type\": \"\",\n        \"description\": \"\"\n      }\n    },\n    {\n      \"column\": \"Article\",\n      \"properties\": {\n        \"dtype\": \"string\",\n        \"num_unique_values\": 491,\n        \"samples\": [\n          \"Markets closed down back where they traded earlier in the pre-market session \\u2014 with the exception of the Nasdaq, which closed higher for the day. The self-policing of high-bond-yield wariness is keeping equities from jumping ahead, even amidst a better-than-expected Q3 earnings season thus far adding some positive sentiment \\u2014 or at least dimming fears of a near-term recession. The Dow slipped -190 points today, -0.58%, while the Nasdaq gained +34 points, +0.27%. The S&P 500 split the difference, -0.17%, while the small-cap Russell 2000 lost -0.69%.\\n\\nThe key phrase there is \\u201cQ3 earnings season thus far\\u201d\\u2026 Some of the biggest companies on the planet, including a few members of the formerly-known-as FAANG \\u2014 Meta Platforms META, Apple AAPL, Amazon AMZN, Alphabet GOOGL \\u2014 as well as Microsoft MSFT, Intel INTC and many more are issuing quarterly reports this week. The basic hugeness of these firms, many of which also constitute the \\u201cMagnificent 7\\u201d stocks that rose to year-to-date highs on prospective strength in the A.I. space, mean they can change the trajectory of earnings season all by themselves.\\n\\nSpeaking of Intel, shares there took a -3% hit today when it was reported NVIDIA NVDA \\u2014 #1 of the Magnificent 7 \\u2014 is planning to produce its own ARM-based chips, which analysts consider a direct challenge to Intel\\u2019s market share. NVIDIA was up +4% on the news, and ARM Holdings ARM gained +6%. It\\u2019s these sorts of narratives giving the Nasdaq index the upper-hand on trading days like today.\\n\\nBond yields always seem to claim a paragraph or so in this column these days, and I suppose this afternoon is no exception: the 10-year bond yield, which had breached +5% momentarily prior to the opening bell on the stock market, pulled back a somewhat noteworthy 15 basis points (bps). The 2-year, which looked willing to give up the inversion of the yield curve earlier, only came down to +5.06% \\u2014 a scant 5 bps or so. For certain, bond yields are doing some of the Fed\\u2019s work for them, curbing any excessive appetite in the equities market.\\n\\nAside from Microsoft and Google reporting earnings tomorrow after the close, we also expect to hear from GM GM, GE GE, Coke KO, Visa V and Texas Instruments TXN. You can tell a lot about the economic health of the U.S. just by tracking those companies alone. Continued positive results would keep some upward pressure on stocks, but it\\u2019s unclear how much. In normal times, with bond yields so low as to be easily dismissed, strong earnings numbers would send markets on an end-of-the-year surge.\\n\\nQuestions or comments about this article and/or author? Click here>>\\nTop 5 ChatGPT Stocks Revealed\\nZacks Senior Stock Strategist, Kevin Cook names 5 hand-picked stocks with sky-high growth potential in a brilliant sector of Artificial Intelligence. By 2030, the AI industry is predicted to have an internet and iPhone-scale economic impact of $15.7 Trillion.\\nToday you can invest in the wave of the future, an automation that answers follow-up questions \\u2026 admits mistakes \\u2026 challenges incorrect premises \\u2026 rejects inappropriate requests. As one of the selected companies puts it, \\u201cAutomation frees people from the mundane so they can accomplish the miraculous.\\u201d\\nDownload Free ChatGPT Stock Report Right Now >>\\nWant the latest recommendations from Zacks Investment Research? Today, you can download 7 Best Stocks for the Next 30 Days. Click to get this free report\\nAmazon.com, Inc. (AMZN) : Free Stock Analysis Report\\nGeneral Electric Company (GE) : Free Stock Analysis Report\\nIntel Corporation (INTC) : Free Stock Analysis Report\\nTexas Instruments Incorporated (TXN) : Free Stock Analysis Report\\nApple Inc. (AAPL) : Free Stock Analysis Report\\nMicrosoft Corporation (MSFT) : Free Stock Analysis Report\\nVisa Inc. (V) : Free Stock Analysis Report\\nCocaCola Company (The) (KO) : Free Stock Analysis Report\\nNVIDIA Corporation (NVDA) : Free Stock Analysis Report\\nARM Holdings PLC Sponsored ADR (ARM) : Free Stock Analysis Report\\nGeneral Motors Company (GM) : Free Stock Analysis Report\\nInvesco QQQ (QQQ): ETF Research Reports\\nAlphabet Inc. (GOOGL) : Free Stock Analysis Report\\nMeta Platforms, Inc. (META) : Free Stock Analysis Report\\nTo read this article on Zacks.com click here.\\nZacks Investment Research\\nThe views and opinions expressed herein are the views and opinions of the author and do not necessarily reflect those of Nasdaq, Inc.\"\n        ],\n        \"semantic_type\": \"\",\n        \"description\": \"\"\n      }\n    },\n    {\n      \"column\": \"Lsa_summary\",\n      \"properties\": {\n        \"dtype\": \"string\",\n        \"num_unique_values\": 490,\n        \"samples\": [\n          \"Nvidia (NVDA) and ARM Holdings (ARM) are up more than +1% in pre-market trading after Bloomberg News reported Monday that Nvidia is using ARM technology to develop processors in personal computers. In the Middle East, French President Macron called for an international coalition to fight Hamas and warned other Iranian-backed militant groups not to open new fronts in the Israeli-Hamas war as he met with Prime Minister Netanyahu today in Israel. On Monday, a U.S. federal appeals court also formalized a victory for Grayscale Investments LLC in its bid to create a spot Bitcoin ETF over objections from the SEC.\"\n        ],\n        \"semantic_type\": \"\",\n        \"description\": \"\"\n      }\n    },\n    {\n      \"column\": \"Luhn_summary\",\n      \"properties\": {\n        \"dtype\": \"string\",\n        \"num_unique_values\": 490,\n        \"samples\": [\n          \"Nvidia (NVDA) and ARM Holdings (ARM) are up more than +1% in pre-market trading after Bloomberg News reported Monday that Nvidia is using ARM technology to develop processors in personal computers. Economic concerns limited gains in equities after today\\u2019s economic news showed manufacturing activity in the Eurozone fell this month and service sector activity unexpectedly contracted by the most in nearly three years. Japanese stocks today initially moved lower on economic concerns after news showed manufacturing activity stagnated this month and service sector activity expanded by the slowest pace in 10 months.\"\n        ],\n        \"semantic_type\": \"\",\n        \"description\": \"\"\n      }\n    },\n    {\n      \"column\": \"Textrank_summary\",\n      \"properties\": {\n        \"dtype\": \"string\",\n        \"num_unique_values\": 490,\n        \"samples\": [\n          \"Nvidia (NVDA) and ARM Holdings (ARM) are up more than +1% in pre-market trading after Bloomberg News reported Monday that Nvidia is using ARM technology to develop processors in personal computers. Pre-Market U.S. Stock Movers General Electric (GE) climbed more than +5% in pre-market trading after reporting Q3 adjusted EPS of 82 cents, well above the consensus of 56 cents, and raising its 2023 adjusted EPS estimate to $2.55-$2.65 from a previous estimate of $2.10-$2.30, stronger than the consensus of $2.36. Spotify (SPOT) dropped more than -2% in pre-market trading despite reporting better-than-expected Q3 EPS after KeyBanc Capital Markets said Q3 gross margin of 26.4%, below the long-term average of 27%, is a sign that margin expansion is becoming more muted and the company is \\u201cerring toward conservatism.\\u201d Cadence Design Systems (CDNS) fell more than -3% in pre-market trading after forecasting Q4 adjusted EPS of $130-$1.36, weaker than the consensus of $1.37.\"\n        ],\n        \"semantic_type\": \"\",\n        \"description\": \"\"\n      }\n    },\n    {\n      \"column\": \"Lexrank_summary\",\n      \"properties\": {\n        \"dtype\": \"string\",\n        \"num_unique_values\": 490,\n        \"samples\": [\n          \"Nvidia (NVDA) and ARM Holdings (ARM) are up more than +1% in pre-market trading after Bloomberg News reported Monday that Nvidia is using ARM technology to develop processors in personal computers. Stock index futures this morning are moderately higher as a decline in T-note yields sparks some short covering in stocks. U.S. and European bond yields are lower.\"\n        ],\n        \"semantic_type\": \"\",\n        \"description\": \"\"\n      }\n    },\n    {\n      \"column\": \"Year\",\n      \"properties\": {\n        \"dtype\": \"int32\",\n        \"num_unique_values\": 2,\n        \"samples\": [\n          2023\n        ],\n        \"semantic_type\": \"\",\n        \"description\": \"\"\n      }\n    },\n    {\n      \"column\": \"DateOnly\",\n      \"properties\": {\n        \"dtype\": \"date\",\n        \"min\": \"2022-01-03\",\n        \"max\": \"2023-12-15\",\n        \"num_unique_values\": 491,\n        \"samples\": [\n          \"2023-10-23\"\n        ],\n        \"semantic_type\": \"\",\n        \"description\": \"\"\n      }\n    },\n    {\n      \"column\": \"Close\",\n      \"properties\": {\n        \"dtype\": \"number\",\n        \"std\": 11.97482025843952,\n        \"min\": 11.214159965515137,\n        \"max\": 50.38215255737305,\n        \"num_unique_values\": 489,\n        \"samples\": [\n          43.639732360839844\n        ],\n        \"semantic_type\": \"\",\n        \"description\": \"\"\n      }\n    }\n  ]\n}"
            }
          },
          "metadata": {},
          "execution_count": 44
        }
      ]
    },
    {
      "cell_type": "code",
      "source": [
        "scores_df = pd.DataFrame(scores)  # len matches df_nvda_merged\n",
        "df_nvda_scored = pd.concat([df_nvda_merged.reset_index(drop=True), scores_df], axis=1)\n",
        "\n",
        "df_nvda_final = df_nvda_scored.copy()\n",
        "df_nvda_final['Date'] = pd.to_datetime(df_nvda_final['Date'], errors='coerce')\n",
        "\n",
        "\n",
        "\n",
        "print(\"Date range:\", df_nvda_final['Date'].min().date(), \"to\", df_nvda_final['Date'].max().date())\n",
        "print(\"Unique days with articles:\", df_nvda_final['Date'].dt.date.nunique())\n",
        "missing_prices = df_nvda_final['Close'].isna().sum() if 'Close' in df_nvda_final.columns else \"column 'Close' not found\"\n",
        "print(\"Missing 'Close' prices:\", missing_prices)"
      ],
      "metadata": {
        "id": "CJXNG4ROHwh5",
        "colab": {
          "base_uri": "https://localhost:8080/"
        },
        "outputId": "ac2b36b8-93e3-4a14-9dc5-62de6655dc60"
      },
      "execution_count": null,
      "outputs": [
        {
          "output_type": "stream",
          "name": "stdout",
          "text": [
            "Date range: 2022-01-03 to 2023-12-15\n",
            "Unique days with articles: 491\n",
            "Missing 'Close' prices: 0\n"
          ]
        }
      ]
    },
    {
      "cell_type": "code",
      "source": [
        "df_nvda_final['Date'] = pd.to_datetime(df_nvda_final['Date'])\n",
        "\n",
        "start_date = df_nvda_final['Date'].min().strftime('%Y-%m-%d')\n",
        "end_date = df_nvda_final['Date'].max().strftime('%Y-%m-%d')\n",
        "\n",
        "filename = f\"nvda_final_{start_date}_to_{end_date}.csv\"\n",
        "\n",
        "df_nvda_final.to_csv(filename, index=False)"
      ],
      "metadata": {
        "id": "pU1S2c8yHycJ"
      },
      "execution_count": null,
      "outputs": []
    },
    {
      "cell_type": "code",
      "source": [
        "count_2022 = (df_nvda_final['Date'].dt.year == 2022).sum()\n",
        "print(\"Number of rows in 2022:\", count_2022)\n",
        "\n",
        "unique_days_2022 = df_nvda_final.loc[df_nvda_final['Date'].dt.year == 2022, 'Date'].dt.date.nunique()\n",
        "print(\"Unique days with articles in 2022:\", unique_days_2022)\n"
      ],
      "metadata": {
        "colab": {
          "base_uri": "https://localhost:8080/"
        },
        "id": "dYzpN3M_4V2t",
        "outputId": "a03f2f6f-a087-47e0-9e1f-be9431581f4b"
      },
      "execution_count": null,
      "outputs": [
        {
          "output_type": "stream",
          "name": "stdout",
          "text": [
            "Number of rows in 2022: 250\n",
            "Unique days with articles in 2022: 250\n"
          ]
        }
      ]
    },
    {
      "cell_type": "code",
      "source": [],
      "metadata": {
        "id": "qPbJ7WB14WSz"
      },
      "execution_count": null,
      "outputs": []
    }
  ]
}